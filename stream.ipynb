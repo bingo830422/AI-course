{
 "cells": [
  {
   "cell_type": "markdown",
   "metadata": {},
   "source": [
    "# Stream with using object detection\n",
    "## Import相關套件"
   ]
  },
  {
   "cell_type": "code",
   "execution_count": 7,
   "metadata": {},
   "outputs": [],
   "source": [
    "import numpy as np\n",
    "import os\n",
    "import six.moves.urllib as urllib\n",
    "import sys\n",
    "import tarfile\n",
    "import tensorflow as tf\n",
    "import zipfile\n",
    "import scipy.misc\n",
    "import pylab\n"
   ]
  },
  {
   "cell_type": "markdown",
   "metadata": {},
   "source": [
    "## 使用OpenCV模組，並讀取影像"
   ]
  },
  {
   "cell_type": "code",
   "execution_count": 8,
   "metadata": {},
   "outputs": [],
   "source": [
    "# 加入 OpenCV 模組\n",
    "import cv2\n",
    "\n",
    "from collections import defaultdict\n",
    "from io import StringIO\n",
    "from matplotlib import pyplot as plt\n",
    "from PIL import Image\n",
    "\n",
    "#if tf.__version__ != '1.4.0':\n",
    "#  raise ImportError('Please upgrade your tensorflow installation to v1.4.0!')\n",
    "\n",
    "# 建立 VideoCapture 物件\n",
    "cap = cv2.VideoCapture('chaplin.mp4')\n",
    "\n",
    "fps = cap.get(cv2.CAP_PROP_FRAME_COUNT) \n",
    "size = (int(cap.get(cv2.CAP_PROP_FRAME_WIDTH)), \n",
    "int(cap.get(cv2.CAP_PROP_FRAME_HEIGHT))) \n",
    "\n",
    "output = cv2.VideoWriter('chaplin_out.mp4', cv2.VideoWriter_fourcc(*'X264'), fps, size)\n",
    "\n",
    "\n",
    "# 設定擷取的畫面解析度\n",
    "cap.set(cv2.CAP_PROP_FRAME_WIDTH, 960)\n",
    "cap.set(cv2.CAP_PROP_FRAME_HEIGHT, 480)\n",
    "\n",
    "sys.path.append(\"..\")\n",
    "\n",
    "from utils import label_map_util\n",
    "from utils import visualization_utils as vis_util\n"
   ]
  },
  {
   "cell_type": "markdown",
   "metadata": {},
   "source": [
    "## 載入事先訓練好的模型"
   ]
  },
  {
   "cell_type": "code",
   "execution_count": 9,
   "metadata": {},
   "outputs": [],
   "source": [
    "MODEL_NAME = 'ssd_mobilenet_v1_coco_2017_11_17'\n",
    "MODEL_FILE = MODEL_NAME + '.tar.gz'\n",
    "DOWNLOAD_BASE = 'http://download.tensorflow.org/models/object_detection/'\n",
    "PATH_TO_CKPT = MODEL_NAME + '/frozen_inference_graph.pb'\n",
    "PATH_TO_LABELS = os.path.join('data', 'mscoco_label_map.pbtxt')\n",
    "NUM_CLASSES = 90\n",
    "\n",
    "opener = urllib.request.URLopener()\n",
    "opener.retrieve(DOWNLOAD_BASE + MODEL_FILE, MODEL_FILE)\n",
    "tar_file = tarfile.open(MODEL_FILE)\n",
    "for file in tar_file.getmembers():\n",
    "  file_name = os.path.basename(file.name)\n",
    "  if 'frozen_inference_graph.pb' in file_name:\n",
    "    tar_file.extract(file, os.getcwd())\n",
    "\n",
    "detection_graph = tf.Graph()\n",
    "with detection_graph.as_default():\n",
    "  od_graph_def = tf.GraphDef()\n",
    "  with tf.gfile.GFile(PATH_TO_CKPT, 'rb') as fid:\n",
    "    serialized_graph = fid.read()\n",
    "    od_graph_def.ParseFromString(serialized_graph)\n",
    "    tf.import_graph_def(od_graph_def, name='')\n",
    "\n",
    "label_map = label_map_util.load_labelmap(PATH_TO_LABELS)\n",
    "categories = label_map_util.convert_label_map_to_categories(label_map, max_num_classes=NUM_CLASSES, use_display_name=True)\n",
    "category_index = label_map_util.create_category_index(categories)\n",
    "\n",
    "def load_image_into_numpy_array(image):\n",
    "  (im_width, im_height) = image.size\n",
    "  return np.array(image.getdata()).reshape(\n",
    "      (im_height, im_width, 3)).astype(np.uint8)"
   ]
  },
  {
   "cell_type": "code",
   "execution_count": 10,
   "metadata": {},
   "outputs": [],
   "source": [
    "with detection_graph.as_default():\n",
    "  with tf.Session(graph=detection_graph) as sess:\n",
    "    # 使用無窮迴圈，持續擷取網路攝影機影像\n",
    "    \n",
    "    while (cap.isOpened()):\n",
    "      # 讀取一個影格\n",
    "      ret, image_np = cap.read()\n",
    "      if ret == True: \n",
    "        image_tensor = detection_graph.get_tensor_by_name('image_tensor:0')\n",
    "        detection_boxes = detection_graph.get_tensor_by_name('detection_boxes:0')\n",
    "        detection_scores = detection_graph.get_tensor_by_name('detection_scores:0')\n",
    "        detection_classes = detection_graph.get_tensor_by_name('detection_classes:0')\n",
    "        num_detections = detection_graph.get_tensor_by_name('num_detections:0')\n",
    "        image_np_expanded = np.expand_dims(image_np, axis=0)\n",
    "\n",
    "        (boxes, scores, classes, num) = sess.run(\n",
    "             [detection_boxes, detection_scores, detection_classes, num_detections],\n",
    "             feed_dict={image_tensor: image_np_expanded})\n",
    "\n",
    "        vis_util.visualize_boxes_and_labels_on_image_array(\n",
    "             image_np,\n",
    "             np.squeeze(boxes),\n",
    "             np.squeeze(classes).astype(np.int32),\n",
    "             np.squeeze(scores),\n",
    "             category_index,\n",
    "             use_normalized_coordinates=True,\n",
    "             line_thickness=4)\n",
    "      # 以 OpenCV 視窗即時顯示辨識結果\n",
    "        output.write(image_np)\n",
    "      else: \n",
    "        break \n",
    "    cap.release() \n",
    "    output.release()\n",
    "      #cv2.imshow('object detection', image_np)\n",
    "      #if cv2.waitKey(25) & 0xFF == ord('q'):\n",
    "      #  cv2.destroyAllWindows()\n",
    "      #  break"
   ]
  },
  {
   "cell_type": "markdown",
   "metadata": {},
   "source": [
    "[Caption](chaplin.mp4)"
   ]
  },
  {
   "cell_type": "markdown",
   "metadata": {},
   "source": [
    "[Caption](chaplin_out.mp4)"
   ]
  },
  {
   "cell_type": "code",
   "execution_count": null,
   "metadata": {},
   "outputs": [],
   "source": []
  }
 ],
 "metadata": {
  "kernelspec": {
   "display_name": "Python 3",
   "language": "python",
   "name": "python3"
  },
  "language_info": {
   "codemirror_mode": {
    "name": "ipython",
    "version": 3
   },
   "file_extension": ".py",
   "mimetype": "text/x-python",
   "name": "python",
   "nbconvert_exporter": "python",
   "pygments_lexer": "ipython3",
   "version": "3.6.4"
  }
 },
 "nbformat": 4,
 "nbformat_minor": 2
}
